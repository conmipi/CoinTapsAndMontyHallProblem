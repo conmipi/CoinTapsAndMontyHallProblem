{
 "cells": [
  {
   "cell_type": "code",
   "execution_count": 96,
   "metadata": {},
   "outputs": [
    {
     "data": {
      "text/plain": [
       "<matplotlib.axes._subplots.AxesSubplot at 0x23952ae2e10>"
      ]
     },
     "execution_count": 96,
     "metadata": {},
     "output_type": "execute_result"
    },
    {
     "data": {
      "image/png": "[encoded data removed]",
      "text/plain": [
       "<matplotlib.figure.Figure at 0x2395295b668>"
      ]
     },
     "metadata": {},
     "output_type": "display_data"
    }
   ],
   "source": [
    "import pandas as pd\n",
    "import math\n",
    "import matplotlib.pyplot as plt\n",
    "import scipy\n",
    "import scipy.stats as stats\n",
    "%matplotlib inline\n",
    "\n",
    "\n",
    "tailsDistribution = pd.DataFrame(columns = ['successes', 'probability'])\n",
    "NCR = 0\n",
    "prob = 0\n",
    "\n",
    "for k in range(100):\n",
    "    NCR = math.factorial(100)/(math.factorial(k)*math.factorial(100-k))\n",
    "    prob = NCR*math.pow(0.5,k)*math.pow(0.5,100-k)\n",
    "    tailsDistribution.loc[k] = [k,prob]\n",
    "    \n",
    "tailsDistribution.plot.bar(x='successes')\n"
   ]
  },
  {
   "cell_type": "code",
   "execution_count": 97,
   "metadata": {},
   "outputs": [
    {
     "name": "stdout",
     "output_type": "stream",
     "text": [
      "expected mean is  50.0\n",
      "the standard deviation is  5.0\n"
     ]
    }
   ],
   "source": [
    "print(\"expected mean is \", 0.5*100)\n",
    "print(\"the standard deviation is \", math.sqrt(100*0.5*0.5))"
   ]
  },
  {
   "cell_type": "code",
   "execution_count": 98,
   "metadata": {},
   "outputs": [
    {
     "name": "stdout",
     "output_type": "stream",
     "text": [
      "the probability that x is between +/- th first standard deviation is 68.26%\n"
     ]
    }
   ],
   "source": [
    "print (\"the probability that x is between +/- the first standard deviation is 68.26%\")\n",
    "print (\"the probability that x is between +/- the second standard deviation is 95.44%\")\n",
    "print (\"the probability that x is between +/- the third standard deviation is 99.74%\")"
   ]
  },
  {
   "cell_type": "code",
   "execution_count": 109,
   "metadata": {},
   "outputs": [
    {
     "name": "stdout",
     "output_type": "stream",
     "text": [
      "the mean of the coin flips is  499.918\n",
      "the standard deviation of the coin flips is  15.6011562392\n",
      "the probability that x is between +/- 1 standard deviation is \n",
      "the probability that x is between +/- 2 standard deviation is \n",
      "the probability that x is between +/- 3 standard deviation is \n"
     ]
    }
   ],
   "source": [
    "coinFlips = stats.binom.rvs(n=1000,p=0.5,size=10000)\n",
    "\n",
    "print(\"the mean of the coin flips is \", coinFlips.mean())\n",
    "print(\"the standard deviation of the coin flips is \", coinFlips.std())\n",
    "\n",
    "print(\"the probability that x is between +/- 1 standard deviation is \", )\n",
    "print(\"the probability that x is between +/- 2 standard deviation is \", )\n",
    "print(\"the probability that x is between +/- 3 standard deviation is \", )\n",
    "\n",
    "\n",
    "\n",
    "\n",
    "\n",
    "#pd.DataFrame(fair_coin_flips).hist(range=(-0.5,10.5), bins=11)"
   ]
  },
  {
   "cell_type": "code",
   "execution_count": 122,
   "metadata": {},
   "outputs": [
    {
     "name": "stdout",
     "output_type": "stream",
     "text": [
      "by swapping doors you won  66.41 % of the time\n"
     ]
    }
   ],
   "source": [
    "import random\n",
    "\n",
    "wins = 0\n",
    "\n",
    "for n in range(10000):\n",
    "\n",
    "    doors = [1, 2, 3]\n",
    "\n",
    "    car= random.choice(doors)\n",
    "    player= random.choice(doors)\n",
    "    \n",
    "    #host chooses door subtract the two or one doors already choosen\n",
    "    host= random.choice(list(set(doors) - set([car, player])))\n",
    "    \n",
    "    #this line will swap the players door choosing only the door the host and the player didn't choose\n",
    "    (player, ) = set(doors) - set([player, host])\n",
    "    if player == car:\n",
    "        wins += 1\n",
    "        \n",
    "print (\"by swapping doors you won \",wins/10000 * 100,\"% of the time\")\n",
    "    "
   ]
  },
  {
   "cell_type": "code",
   "execution_count": null,
   "metadata": {
    "collapsed": true
   },
   "outputs": [],
   "source": []
  },
  {
   "cell_type": "code",
   "execution_count": null,
   "metadata": {
    "collapsed": true
   },
   "outputs": [],
   "source": []
  }
 ],
 "metadata": {
  "kernelspec": {
   "display_name": "Python 3",
   "language": "python",
   "name": "python3"
  },
  "language_info": {
   "codemirror_mode": {
    "name": "ipython",
    "version": 3
   },
   "file_extension": ".py",
   "mimetype": "text/x-python",
   "name": "python",
   "nbconvert_exporter": "python",
   "pygments_lexer": "ipython3",
   "version": "3.6.2"
  }
 },
 "nbformat": 4,
 "nbformat_minor": 2
}
